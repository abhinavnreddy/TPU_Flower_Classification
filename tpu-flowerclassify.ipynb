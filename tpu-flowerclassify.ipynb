{
 "cells": [
  {
   "cell_type": "code",
   "execution_count": 1,
   "metadata": {},
   "outputs": [],
   "source": [
    "%%capture\n",
    "!pip install git+https://github.com/qubvel/efficientnet"
   ]
  },
  {
   "cell_type": "code",
   "execution_count": 2,
   "metadata": {
    "_cell_guid": "b1076dfc-b9ad-4769-8c92-a6c4dae69d19",
    "_uuid": "8f2839f25d086af736a60e9eeb907d3b93b6e0e5"
   },
   "outputs": [],
   "source": [
    "import math, re, os\n",
    "import tensorflow as tf\n",
    "import matplotlib.pyplot as plt\n",
    "from kaggle_datasets import KaggleDatasets\n",
    "from sklearn.metrics import f1_score, precision_score, recall_score, confusion_matrix\n",
    "from efficientnet.tfkeras import EfficientNetB7 as EB7Net\n",
    "import numpy as np\n",
    "import pandas as pd \n",
    "AUTO = tf.data.experimental.AUTOTUNE"
   ]
  },
  {
   "cell_type": "markdown",
   "execution_count": null,
   "metadata": {},
   "source": [
    "# TPU Connection"
   ]
  },
  {
   "cell_type": "code",
   "execution_count": 3,
   "metadata": {
    "_cell_guid": "79c7e3d0-c299-4dcb-8224-4455121ee9b0",
    "_uuid": "d629ff2d2480ee46fbb7e2d37f6b5fab8052498a"
   },
   "outputs": [
    {
     "name": "stdout",
     "output_type": "stream",
     "text": [
      "Running on TPU  grpc://10.0.0.2:8470\n",
      "Replicas:  8\n"
     ]
    }
   ],
   "source": [
    "try: \n",
    "  tpu = tf.distribute.cluster_resolver.TPUClusterResolver()\n",
    "  print('Running on TPU ', tpu.master())\n",
    "except ValueError:\n",
    "  tpu = None\n",
    "\n",
    "if tpu:\n",
    "  tf.config.experimental_connect_to_cluster(tpu)\n",
    "  tf.tpu.experimental.initialize_tpu_system(tpu)\n",
    "  strategy = tf.distribute.experimental.TPUStrategy(tpu)\n",
    "else:\n",
    "  strategy = tf.distribute.get_strategy()\n",
    "\n",
    "print(\"Replicas: \", strategy.num_replicas_in_sync)"
   ]
  },
  {
   "cell_type": "markdown",
   "execution_count": null,
   "metadata": {},
   "source": [
    "# Initializations"
   ]
  },
  {
   "cell_type": "code",
   "execution_count": 4,
   "metadata": {},
   "outputs": [],
   "source": [
    "IMAGE_SIZE = [512,512]\n",
    "GCS_PATH =  KaggleDatasets().get_gcs_path()\n",
    "LABELED_TFREC_FORMAT = {\n",
    "    \"image\": tf.io.FixedLenFeature([], tf.string),\n",
    "    \"class\": tf.io.FixedLenFeature([], tf.int64),\n",
    "}\n",
    "UNLABELED_TFREC_FORMAT = {\n",
    "    \"image\": tf.io.FixedLenFeature([], tf.string),\n",
    "    \"id\": tf.io.FixedLenFeature([], tf.string),\n",
    "}\n",
    "\n",
    "BATCH_SIZE = 16 * strategy.num_replicas_in_sync\n",
    "EPOCHS = 20\n",
    "OPTIMIZER = tf.keras.optimizers.Adam(\n",
    "    learning_rate=0.001, beta_1=0.9, beta_2=0.999,epsilon=1e-07, amsgrad=False,\n",
    "    name='Adam'\n",
    ")\n",
    "LOSS = 'sparse_categorical_crossentropy'\n",
    "METRICS = ['sparse_categorical_accuracy']"
   ]
  },
  {
   "cell_type": "markdown",
   "execution_count": null,
   "metadata": {},
   "source": [
    "# Funcitons"
   ]
  },
  {
   "cell_type": "code",
   "execution_count": 5,
   "metadata": {},
   "outputs": [],
   "source": [
    "def get_filenames ( dataFor ):\n",
    "  dataPath = GCS_PATH + '/tfrecords-jpeg-'+str(IMAGE_SIZE[0])+'x'+str(IMAGE_SIZE[1])\n",
    "  return tf.io.gfile.glob(dataPath+'/'+dataFor+'/*.tfrec')\n",
    "\n",
    "TRAIN_FILENAMES = get_filenames('train')\n",
    "VAL_FILENAMES = get_filenames('val')\n",
    "TEST_FILENAMES = get_filenames('test')\n",
    "\n",
    "def decode_image(img_data):\n",
    "  image = tf.image.decode_jpeg(img_data, channels=3)\n",
    "  image = tf.cast(image, tf.float32) / 255.0\n",
    "  image = tf.reshape(image, [*IMAGE_SIZE, 3])\n",
    "  return tf.image.random_flip_left_right(image)\n",
    "\n",
    "def read_labeled_tfrecord( example ):\n",
    "  example = tf.io.parse_single_example(example, LABELED_TFREC_FORMAT)\n",
    "  image = decode_image(example['image'])\n",
    "  label = tf.cast(example['class'], tf.int32)\n",
    "  return image, label\n",
    "\n",
    "def read_unlabeled_tfrecord( example ):\n",
    "  example = tf.io.parse_single_example(example, UNLABELED_TFREC_FORMAT)\n",
    "  image = decode_image(example['image'])\n",
    "  return image, example['id']\n",
    "\n",
    "def get_data(filenames, labeled=True,ordered=False):\n",
    "  options = tf.data.Options()\n",
    "  if not ordered:\n",
    "    options.experimental_deterministic = False\n",
    "  data = tf.data.TFRecordDataset(filenames, num_parallel_reads=AUTO).with_options(options)\n",
    "  return data.map(read_labeled_tfrecord if labeled else read_unlabeled_tfrecord, \n",
    "                    num_parallel_calls=AUTO)\n",
    "\n",
    "\n",
    "def get_datasets ( ):\n",
    "  train = get_data(TRAIN_FILENAMES)\n",
    "  train = train.repeat().shuffle(2048).batch(BATCH_SIZE).prefetch(AUTO)\n",
    "  test = get_data(TEST_FILENAMES, False,True)\n",
    "  test = test.batch(BATCH_SIZE).prefetch(AUTO)\n",
    "  val = get_data(VAL_FILENAMES)\n",
    "  val = val.batch(BATCH_SIZE).cache().prefetch(AUTO)\n",
    "  return train, val, test\n",
    "\n",
    "def count_images(filenames):\n",
    "  n = [int(re.compile(r\"-([0-9]*)\\.\").search(filename).group(1)) for filename in filenames]\n",
    "  return np.sum(n)\n"
   ]
  },
  {
   "cell_type": "code",
   "execution_count": 6,
   "metadata": {},
   "outputs": [],
   "source": [
    "def lr(epoch):\n",
    "    init_lr = 0.001\n",
    "    drop = 0.5\n",
    "    epoch_interval = 4\n",
    "    return init_lr * math.pow(drop, math.floor((1+epoch)/epoch_interval))\n",
    "lr_schedule = tf.keras.callbacks.LearningRateScheduler(lr, verbose=True)"
   ]
  },
  {
   "cell_type": "markdown",
   "execution_count": null,
   "metadata": {},
   "source": [
    "# Loading Model and Training"
   ]
  },
  {
   "cell_type": "code",
   "execution_count": 7,
   "metadata": {},
   "outputs": [
    {
     "name": "stdout",
     "output_type": "stream",
     "text": [
      "Downloading data from https://github.com/Callidior/keras-applications/releases/download/efficientnet/efficientnet-b7_weights_tf_dim_ordering_tf_kernels_autoaugment_notop.h5\n",
      "258441216/258434480 [==============================] - 4s 0us/step\n",
      "Model: \"sequential\"\n",
      "_________________________________________________________________\n",
      "Layer (type)                 Output Shape              Param #   \n",
      "=================================================================\n",
      "efficientnet-b7 (Model)      (None, 16, 16, 2560)      64097680  \n",
      "_________________________________________________________________\n",
      "global_average_pooling2d (Gl (None, 2560)              0         \n",
      "_________________________________________________________________\n",
      "dense (Dense)                (None, 104)               266344    \n",
      "=================================================================\n",
      "Total params: 64,364,024\n",
      "Trainable params: 64,053,304\n",
      "Non-trainable params: 310,720\n",
      "_________________________________________________________________\n"
     ]
    }
   ],
   "source": [
    "with strategy.scope():\n",
    "  efficientNetModel = EB7Net(weights=\"imagenet\", include_top=False, input_shape=[*IMAGE_SIZE, 3])\n",
    "  efficientNetModel.trainable = True\n",
    "  model = tf.keras.Sequential([\n",
    "                               efficientNetModel,\n",
    "                               tf.keras.layers.GlobalAveragePooling2D(),\n",
    "                               tf.keras.layers.Dense(104, activation='softmax')\n",
    "  ])\n",
    "\n",
    "model.compile(\n",
    "    optimizer = OPTIMIZER,\n",
    "    loss = LOSS,\n",
    "    metrics = METRICS\n",
    ")\n",
    "\n",
    "model.summary()"
   ]
  },
  {
   "cell_type": "code",
   "execution_count": 8,
   "metadata": {},
   "outputs": [
    {
     "name": "stdout",
     "output_type": "stream",
     "text": [
      "Train for 99 steps\n",
      "\n",
      "Epoch 00001: LearningRateScheduler reducing learning rate to 0.001.\n",
      "Epoch 1/20\n",
      "99/99 [==============================] - 423s 4s/step - loss: 1.5580 - sparse_categorical_accuracy: 0.6301 - val_loss: 2.7524 - val_sparse_categorical_accuracy: 0.6530\n",
      "\n",
      "Epoch 00002: LearningRateScheduler reducing learning rate to 0.001.\n",
      "Epoch 2/20\n",
      "99/99 [==============================] - 100s 1s/step - loss: 0.5097 - sparse_categorical_accuracy: 0.8655 - val_loss: 0.5982 - val_sparse_categorical_accuracy: 0.8664\n",
      "\n",
      "Epoch 00003: LearningRateScheduler reducing learning rate to 0.001.\n",
      "Epoch 3/20\n",
      "99/99 [==============================] - 100s 1s/step - loss: 0.3056 - sparse_categorical_accuracy: 0.9154 - val_loss: 0.3939 - val_sparse_categorical_accuracy: 0.8944\n",
      "\n",
      "Epoch 00004: LearningRateScheduler reducing learning rate to 0.0005.\n",
      "Epoch 4/20\n",
      "99/99 [==============================] - 100s 1s/step - loss: 0.1529 - sparse_categorical_accuracy: 0.9628 - val_loss: 0.2517 - val_sparse_categorical_accuracy: 0.9375\n",
      "\n",
      "Epoch 00005: LearningRateScheduler reducing learning rate to 0.0005.\n",
      "Epoch 5/20\n",
      "99/99 [==============================] - 100s 1s/step - loss: 0.0693 - sparse_categorical_accuracy: 0.9785 - val_loss: 0.2671 - val_sparse_categorical_accuracy: 0.9418\n",
      "\n",
      "Epoch 00006: LearningRateScheduler reducing learning rate to 0.0005.\n",
      "Epoch 6/20\n",
      "99/99 [==============================] - 100s 1s/step - loss: 0.0510 - sparse_categorical_accuracy: 0.9823 - val_loss: 0.2618 - val_sparse_categorical_accuracy: 0.9375\n",
      "\n",
      "Epoch 00007: LearningRateScheduler reducing learning rate to 0.0005.\n",
      "Epoch 7/20\n",
      "99/99 [==============================] - 100s 1s/step - loss: 0.0460 - sparse_categorical_accuracy: 0.9861 - val_loss: 0.2802 - val_sparse_categorical_accuracy: 0.9375\n",
      "\n",
      "Epoch 00008: LearningRateScheduler reducing learning rate to 0.00025.\n",
      "Epoch 8/20\n",
      "99/99 [==============================] - 100s 1s/step - loss: 0.0265 - sparse_categorical_accuracy: 0.9949 - val_loss: 0.2427 - val_sparse_categorical_accuracy: 0.9440\n",
      "\n",
      "Epoch 00009: LearningRateScheduler reducing learning rate to 0.00025.\n",
      "Epoch 9/20\n",
      "99/99 [==============================] - 100s 1s/step - loss: 0.0184 - sparse_categorical_accuracy: 0.9981 - val_loss: 0.2540 - val_sparse_categorical_accuracy: 0.9397\n",
      "\n",
      "Epoch 00010: LearningRateScheduler reducing learning rate to 0.00025.\n",
      "Epoch 10/20\n",
      "99/99 [==============================] - 100s 1s/step - loss: 0.0174 - sparse_categorical_accuracy: 0.9962 - val_loss: 0.2635 - val_sparse_categorical_accuracy: 0.9461\n",
      "\n",
      "Epoch 00011: LearningRateScheduler reducing learning rate to 0.00025.\n",
      "Epoch 11/20\n",
      "99/99 [==============================] - 100s 1s/step - loss: 0.0125 - sparse_categorical_accuracy: 0.9968 - val_loss: 0.2602 - val_sparse_categorical_accuracy: 0.9483\n",
      "\n",
      "Epoch 00012: LearningRateScheduler reducing learning rate to 0.000125.\n",
      "Epoch 12/20\n",
      "99/99 [==============================] - 100s 1s/step - loss: 0.0114 - sparse_categorical_accuracy: 0.9956 - val_loss: 0.2582 - val_sparse_categorical_accuracy: 0.9440\n",
      "\n",
      "Epoch 00013: LearningRateScheduler reducing learning rate to 0.000125.\n",
      "Epoch 13/20\n",
      "99/99 [==============================] - 100s 1s/step - loss: 0.0082 - sparse_categorical_accuracy: 1.0000 - val_loss: 0.2557 - val_sparse_categorical_accuracy: 0.9483\n",
      "\n",
      "Epoch 00014: LearningRateScheduler reducing learning rate to 0.000125.\n",
      "Epoch 14/20\n",
      "99/99 [==============================] - 100s 1s/step - loss: 0.0076 - sparse_categorical_accuracy: 0.9975 - val_loss: 0.2545 - val_sparse_categorical_accuracy: 0.9504\n",
      "\n",
      "Epoch 00015: LearningRateScheduler reducing learning rate to 0.000125.\n",
      "Epoch 15/20\n",
      "99/99 [==============================] - 100s 1s/step - loss: 0.0080 - sparse_categorical_accuracy: 0.9962 - val_loss: 0.2586 - val_sparse_categorical_accuracy: 0.9504\n",
      "\n",
      "Epoch 00016: LearningRateScheduler reducing learning rate to 6.25e-05.\n",
      "Epoch 16/20\n",
      "99/99 [==============================] - 100s 1s/step - loss: 0.0067 - sparse_categorical_accuracy: 0.9987 - val_loss: 0.2598 - val_sparse_categorical_accuracy: 0.9526\n",
      "\n",
      "Epoch 00017: LearningRateScheduler reducing learning rate to 6.25e-05.\n",
      "Epoch 17/20\n",
      "99/99 [==============================] - 100s 1s/step - loss: 0.0067 - sparse_categorical_accuracy: 0.9987 - val_loss: 0.2521 - val_sparse_categorical_accuracy: 0.9526\n",
      "\n",
      "Epoch 00018: LearningRateScheduler reducing learning rate to 6.25e-05.\n",
      "Epoch 18/20\n",
      "99/99 [==============================] - 100s 1s/step - loss: 0.0062 - sparse_categorical_accuracy: 0.9994 - val_loss: 0.2524 - val_sparse_categorical_accuracy: 0.9547\n",
      "\n",
      "Epoch 00019: LearningRateScheduler reducing learning rate to 6.25e-05.\n",
      "Epoch 19/20\n",
      "99/99 [==============================] - 100s 1s/step - loss: 0.0047 - sparse_categorical_accuracy: 1.0000 - val_loss: 0.2534 - val_sparse_categorical_accuracy: 0.9569\n",
      "\n",
      "Epoch 00020: LearningRateScheduler reducing learning rate to 3.125e-05.\n",
      "Epoch 20/20\n",
      "99/99 [==============================] - 100s 1s/step - loss: 0.0048 - sparse_categorical_accuracy: 1.0000 - val_loss: 0.2537 - val_sparse_categorical_accuracy: 0.9569\n"
     ]
    }
   ],
   "source": [
    "train_data, val_data, test_data = get_datasets()\n",
    "STEPS = count_images(TRAIN_FILENAMES) // BATCH_SIZE\n",
    "h = model.fit(train_data, steps_per_epoch=STEPS, epochs=EPOCHS, validation_data=val_data, callbacks=[lr_schedule])"
   ]
  },
  {
   "cell_type": "markdown",
   "execution_count": null,
   "metadata": {},
   "source": [
    "# Plots"
   ]
  },
  {
   "cell_type": "code",
   "execution_count": 9,
   "metadata": {},
   "outputs": [
    {
     "data": {
      "image/png": "[encoded data removed]",
      "text/plain": [
       "<Figure size 432x288 with 1 Axes>"
      ]
     },
     "metadata": {
      "needs_background": "light"
     },
     "output_type": "display_data"
    },
    {
     "data": {
      "image/png": "[encoded data removed]",
      "text/plain": [
       "<Figure size 432x288 with 1 Axes>"
      ]
     },
     "metadata": {
      "needs_background": "light"
     },
     "output_type": "display_data"
    }
   ],
   "source": [
    "plt.figure(0)\n",
    "plt.plot(h.history['sparse_categorical_accuracy'], label=\"Train Accuracy\")\n",
    "plt.plot(h.history['val_sparse_categorical_accuracy'], label=\"Val Accuracy\")\n",
    "plt.title(\"Accuracy\")\n",
    "plt.legend()\n",
    "plt.figure(1)\n",
    "plt.plot(h.history['loss'], label=\"Train Loss\")\n",
    "plt.plot(h.history['val_loss'], label=\"Val Loss\")\n",
    "plt.title(\"Loss\")\n",
    "plt.legend()\n",
    "plt.show()"
   ]
  },
  {
   "cell_type": "markdown",
   "execution_count": null,
   "metadata": {},
   "source": [
    "# Prediction"
   ]
  },
  {
   "cell_type": "code",
   "execution_count": 10,
   "metadata": {},
   "outputs": [],
   "source": [
    "test_images = test_data.map(lambda image, idnum: image)\n",
    "prob = model.predict(test_images)\n",
    "pred = np.argmax(prob, axis=-1)\n",
    "test_ids_ds = test_data.map(lambda image, idnum: idnum).unbatch()\n",
    "test_ids = next(iter(test_ids_ds.batch(count_images(TEST_FILENAMES)))).numpy().astype('U')\n",
    "test_pred = pd.DataFrame(np.column_stack((test_ids,pred)),columns=['id','label'])\n",
    "test_pred.to_csv('submission.csv',index=False)"
   ]
  }
 ],
 "metadata": {
  "kernelspec": {
   "display_name": "Python 3",
   "language": "python",
   "name": "python3"
  },
  "language_info": {
   "codemirror_mode": {
    "name": "ipython",
    "version": 3
   },
   "file_extension": ".py",
   "mimetype": "text/x-python",
   "name": "python",
   "nbconvert_exporter": "python",
   "pygments_lexer": "ipython3",
   "version": "3.6.6"
  }
 },
 "nbformat": 4,
 "nbformat_minor": 4
}
